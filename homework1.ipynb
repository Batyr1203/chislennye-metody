{
 "cells": [
  {
   "cell_type": "markdown",
   "metadata": {},
   "source": [
    "# Точные методы решения СЛАУ\n",
    "\n",
    "### Постановка задачи:\n",
    "Пусть известны матрица вещественных чисел $A\\in \\rm I\\!R ^{n*n}$ и вектор правой части $f\\in \\rm I\\!R^n$ уравнения:\n",
    "$$Ax = f,$$\n",
    "Требуется найти вектор $x \\in \\rm I\\!R^n$, из этого уравнения.\n",
    "\n",
    "\n",
    "###### Для каждого из методов время решения будем сравнивать с временем вычислений соответствующих библиотечных функций, а сами решения будем сравнивать с помощью функции *numpy.linalg.norm()*. \n",
    "\n",
    "###### Матрица и правая часть уравнения генерируются  случайным образом. Для гарантии того, что матрица имеет диагональное преобладание в каждом методе будем пропускать матрицу через функцию *diag_major* (описание в коде)."
   ]
  },
  {
   "cell_type": "markdown",
   "metadata": {},
   "source": [
    "#  \n",
    "\n",
    "\n",
    "\n",
    "\n",
    "# Метод Гаусса\n",
    "\n",
    "Пусть $A=LU$, где $L-$ нижнетреугольная матрица, $U-$ верхнетрегольная матрица с единицами на главной диагонали:\n",
    "$$LUx=f.$$\n",
    "\n",
    "\n",
    "**Прямой ход**: привести матрицу к улучшенному верхнетреугольному виду элементарнымипреобразованиями строк.\n",
    "$$Ux = L^{-1}f.$$\n",
    "**Обратный ход**: привести матрицу кк диагональному виду элементарными преобразованиями строк.\n",
    "$$x = U^{-1}L^{-1}f.$$\n",
    "\n",
    "### Асимптотика алгоритмической сложности:\n",
    "1. прямого хода: $\\Theta(n^3);$\n",
    "2. обратного хода: $\\Theta(n^2);$\n",
    "3. метода Гаусса : $\\Theta(n^3)$."
   ]
  },
  {
   "cell_type": "code",
   "execution_count": 8,
   "metadata": {},
   "outputs": [
    {
     "name": "stdout",
     "output_type": "stream",
     "text": [
      "My time:  [0.15822672843933105, 0.5739479064941406, 1.3904681205749512, 2.341061592102051, 3.7289059162139893]\n",
      "lib_time:  [0.025662899017333984, 0.0018117427825927734, 0.0182340145111084, 0.009048938751220703, 0.016607999801635742]\n"
     ]
    },
    {
     "data": {
      "image/png": "[encoded data removed]",
      "text/plain": [
       "<Figure size 432x288 with 1 Axes>"
      ]
     },
     "metadata": {
      "needs_background": "light"
     },
     "output_type": "display_data"
    },
    {
     "name": "stdout",
     "output_type": "stream",
     "text": [
      "Оценим норму разности решений функции gauss и библиотечной функции: \n",
      "4.9673428657094446e-17\n"
     ]
    }
   ],
   "source": [
    "import numpy as np\n",
    "import time\n",
    "import matplotlib.pyplot as plt\n",
    "\n",
    "###### Метод Гаусса ########\n",
    "def gauss(A, f):\n",
    "    n = f.size\n",
    "    x = np.zeros(n)\n",
    "\n",
    "    for k in range(n):\n",
    "        f[k] = f[k] / A[k][k]\n",
    "        A[k] = A[k] / A[k][k]\n",
    "        for i in range(k + 1, n):\n",
    "            f[i] = f[i] - f[k] * A[i][k]\n",
    "            A[i] = A[i] - A[k] * A[i][k]\n",
    "            A[i][k] = 0\n",
    "\n",
    "    for i in range(n - 1, -1, -1):\n",
    "        x[i] = f[i]\n",
    "        for j in range(i + 1, n):\n",
    "            x[i] = x[i] - A[i][j] * x[j]\n",
    "\n",
    "    return x\n",
    "\n",
    "\n",
    "    \n",
    "##### Превращение матрицы в матрицу с диагональным преобладанием\n",
    "def diag_major(A):\n",
    "    n = A.shape[0]\n",
    "    for i in range(n):      # Делаем диагональный элемент уж точно больше суммы\n",
    "        sum = 0                                          #  всех в строке\n",
    "        for j in range(n):\n",
    "            if j != i:\n",
    "                sum += abs(A[i][j])\n",
    "        A[i][i] = abs(A[i][i]) + sum\n",
    "    \n",
    "\n",
    "########## Проверка метода Гаусса ###############\n",
    "def check_gauss():\n",
    "    n = 5      # n * 100 - максимальный порядок матриц\n",
    "    my_time = [0] * n\n",
    "    lib_time = [0] * n\n",
    "    steps = [i*100 for i in range(1, n+1)]\n",
    "\n",
    "    for i in range(0, n):\n",
    "        A = np.random.rand(100 * (i+1), 100 * (i+1))\n",
    "        f = np.random.rand(100 * (i+1))\n",
    "\n",
    "        diag_major(A) # диагональное преобладание\n",
    "\n",
    "        start_time = time.time()   # библиотечный метод\n",
    "        np_x = np.linalg.solve(A, f)\n",
    "        end_time = time.time()\n",
    "        lib_time[i] = end_time - start_time\n",
    "    \n",
    "        start_time = time.time()   # \"мой\" метод\n",
    "        my_x = gauss(A, f)\n",
    "        end_time = time.time()\n",
    "        my_time[i] = end_time - start_time\n",
    "    \n",
    "    print('My time: ', my_time)\n",
    "    print('lib_time: ', lib_time)\n",
    "\n",
    "    plt.plot(steps, my_time, 'ro-', label='Моя функция')\n",
    "    plt.plot(steps, lib_time, 'bo-', label='np.linalg')\n",
    "    plt.legend()\n",
    "\n",
    "    plt.show()\n",
    "    \n",
    "    print('Оценим норму разности решений функции gauss и библиотечной функции: ')\n",
    "    err = np.linalg.norm(np_x-my_x)\n",
    "    print(err)\n",
    "    \n",
    "check_gauss()\n",
    "\n",
    "\n",
    "\n"
   ]
  },
  {
   "cell_type": "markdown",
   "metadata": {},
   "source": [
    "# Метод Холецкого\n",
    "\n",
    "\n",
    "Пусть $A = A^T$ и $A > 0$. Тогда $$A = S^TS,$$где $S-$ верхнетреугольная матрица.\n",
    "В этом случае нам необходимо решить два уравнения:\n",
    "$\\quad$ $S^Ty=f$, $\\quad$ $Sx=y.$"
   ]
  },
  {
   "cell_type": "code",
   "execution_count": 5,
   "metadata": {},
   "outputs": [
    {
     "name": "stdout",
     "output_type": "stream",
     "text": [
      "My time:  [0.5362229347229004, 4.251189947128296, 13.98434066772461]\n",
      "lib_time:  [0.23608160018920898, 0.002998828887939453, 0.01108694076538086]\n"
     ]
    },
    {
     "data": {
      "image/png": "[encoded data removed]",
      "text/plain": [
       "<Figure size 432x288 with 1 Axes>"
      ]
     },
     "metadata": {
      "needs_background": "light"
     },
     "output_type": "display_data"
    },
    {
     "name": "stdout",
     "output_type": "stream",
     "text": [
      "Оценим норму разности решений описанного метода и библиотечной функции: \n",
      "0.013933458674467892\n"
     ]
    }
   ],
   "source": [
    "import numpy as np\n",
    "import time\n",
    "import matplotlib.pyplot as plt\n",
    "from scipy.linalg import solve_triangular\n",
    "\n",
    "# Метод Холецкого решения СЛАУ\n",
    "def cholecky(A, f):\n",
    "    n = A.shape[0]\n",
    "    U = np.zeros((n, n))\n",
    "\n",
    "    for i in range(n):\n",
    "\n",
    "                       # На данном этапе создаем матрицу U\n",
    "        sum = 0        # которая определяется из формулы A = U(transp) * U\n",
    "        for k in range(i):\n",
    "            sum += U[k][i] ** 2\n",
    "        U[i][i] = (A[i][i] - sum) ** 0.5\n",
    "\n",
    "        for j in range(i+1, n):\n",
    "            sum = 0\n",
    "            for k in range(i):\n",
    "                sum += U[k][i] * U[k][j]\n",
    "            U[i][j] = (A[i][j] - sum) / U[i][i]\n",
    "            \n",
    "                        # Остается решить прямой метод\n",
    "                        # И обратный\n",
    "            \n",
    "    # U(transp) * y = f\n",
    "    y = np.zeros(n)\n",
    "    for i in range(n):\n",
    "        sum = 0\n",
    "        for k in range(i):\n",
    "            sum += U[k][i] * y[k]\n",
    "        y[i] = (f[i] - sum) / U[i][i]\n",
    "        \n",
    "    # U * x = y\n",
    "    x = np.zeros(n)\n",
    "    for i in range(n):\n",
    "        sum = 0\n",
    "        for k in range(i+1, n):\n",
    "            sum += U[i][k] * x[k]\n",
    "        x[i] = (y[i] - sum) / U[i][i]\n",
    "        \n",
    "    return x\n",
    "\n",
    "\n",
    "\n",
    "\n",
    "##### Превращение матрицы в матрицу с диагональным преобладанием\n",
    "def diag_major(A):\n",
    "    n = A.shape[0]\n",
    "    for i in range(n):      # Делаем диагональный элемент уж точно больше суммы\n",
    "        sum = 0                                          #  всех в строке\n",
    "        for j in range(n):\n",
    "            if j != i:\n",
    "                sum += abs(A[i][j])\n",
    "        A[i][i] = abs(A[i][i]) + sum\n",
    "    \n",
    "\n",
    "\n",
    "def check_cholecky():\n",
    "    n = 3      # n * 100 - максимальный порядок матриц\n",
    "    my_time = [0] * n\n",
    "    lib_time = [0] * n\n",
    "    steps = [i*100 for i in range(1, n+1)]\n",
    "\n",
    "    for i in range(0, n):\n",
    "        A = np.random.rand(100 * (i+1), 100 * (i+1))\n",
    "        f = np.random.rand(100 * (i+1))\n",
    "\n",
    "        diag_major(A) # диагональное преобладание\n",
    "\n",
    "        start_time = time.time()   # библиотечный метод\n",
    "        U = np.linalg.cholesky(A)\n",
    "        y = solve_triangular(U, f, lower=True)\n",
    "        U = np.transpose(U)\n",
    "        lib_x = solve_triangular(U, y, lower=False)\n",
    "        end_time = time.time()\n",
    "        lib_time[i] = end_time - start_time\n",
    "    \n",
    "        start_time = time.time()   # \"мой\" метод\n",
    "        my_x = cholecky(A, f)\n",
    "        end_time = time.time()\n",
    "        my_time[i] = end_time - start_time\n",
    "    \n",
    "    print('My time: ', my_time)\n",
    "    print('lib_time: ', lib_time)\n",
    "\n",
    "    plt.plot(steps, my_time, 'ro-', label='Моя функция')\n",
    "    plt.plot(steps, lib_time, 'bo-', label='Библиотечная')\n",
    "    plt.legend()\n",
    "\n",
    "    plt.show()\n",
    "    \n",
    "    print('Оценим норму разности решений описанного метода и библиотечной функции: ')\n",
    "    err = np.linalg.norm(lib_x-my_x)\n",
    "    print(err)\n",
    "\n",
    "check_cholecky()\n",
    "\n",
    "# верхне-треугольную матрицу строит долго, поэтому ограничимся порядками 100, 200, 300\n"
   ]
  },
  {
   "cell_type": "markdown",
   "metadata": {},
   "source": [
    "# Метод прогонки (3х диагональной матрицы)\n",
    "Пусть матрица $A$ имеет диагональное преобладание и везде нулевые элементы, за исключением, возможно, элементов главной диагонали и двух соседних. Тогда нет необходимости хранить в памяти и обходить всю матрицу $A$. Работать будем лишь с данными тремя ненулевыми диагоналями, или векторами.\n",
    "\n",
    "Решение уравнения $Ax=f$ сводится к последовательным решениям прямого и обратного хода. В прямом ходе вычисляются коэффициенты матричной прогонки, а в обратном ходе $-$ сам вектор решения $x$ по уже найденным коэффициентам. Сами коэффициенты появляются в ходе решения из того допущения, что неизвестное $x_{i-1}$ может быть линейно выражено через $x_i$: $$x_{i-1} = \\alpha_i x_i + \\beta_i, \\quad i=1,...,n.$$\n",
    "Понятно, что придется вводить некоторые фиктивные переменные, в частности, для **$x:\\quad$** $x_0$ и $x_{n+1}.$ \n",
    "\n",
    "\n",
    "* Решение будем искать уже для больших порядков матриц, т.к. для данного специального вида матриц решение ищется существенно быстрее, чем например, метод Гаусса.\n",
    "\n",
    "#### Асимптотика: $\\quad \\Theta(n)$\n"
   ]
  },
  {
   "cell_type": "code",
   "execution_count": 4,
   "metadata": {},
   "outputs": [
    {
     "name": "stdout",
     "output_type": "stream",
     "text": [
      "My time:  [0.0059163570404052734, 0.012253522872924805, 0.018639326095581055, 0.026859045028686523, 0.031057357788085938]\n",
      "Lib time:  [0.0003542900085449219, 0.0003821849822998047, 0.0004329681396484375, 0.0005004405975341797, 0.0006744861602783203]\n"
     ]
    },
    {
     "data": {
      "image/png": "[encoded data removed]",
      "text/plain": [
       "<Figure size 432x288 with 1 Axes>"
      ]
     },
     "metadata": {
      "needs_background": "light"
     },
     "output_type": "display_data"
    },
    {
     "name": "stdout",
     "output_type": "stream",
     "text": [
      "Оценим норму разности решений функции sweep и библиотечной функции: \n",
      "1.0086131241724912e-14\n"
     ]
    }
   ],
   "source": [
    "import numpy as np\n",
    "import time\n",
    "import matplotlib.pyplot as plt\n",
    "from scipy.linalg import solve_banded\n",
    "\n",
    "\n",
    "############ Прогонка #################\n",
    "def sweep (a, b, c, f):\n",
    "    n = f.size\n",
    "    \n",
    "    alpha = [0] * (n+1)\n",
    "    betta = [0] * (n+1)\n",
    "    x = [0] * (n+1)\n",
    "    a[0] = 0\n",
    "    c[n-1] = 0\n",
    "    alpha[0] = 0\n",
    "    betta[0] = 0\n",
    "    \n",
    "    for i in range(n):\n",
    "        d = a[i] * alpha[i] + b[i]\n",
    "        alpha[i+1] = -c[i] / d\n",
    "        betta[i+1] = (f[i] - a[i] * betta[i]) / d\n",
    "        \n",
    "    x[n] = 0\n",
    "    for i in range(n-1, -1, -1):\n",
    "        x[i] = alpha[i+1] * x[i+1] + betta[i+1]\n",
    "\n",
    "    x = x[:-1]\n",
    "    return x\n",
    "\n",
    "\n",
    "def diag_major(a, b, c):\n",
    "    n = len(b)\n",
    "    for i in range(n):\n",
    "        sum = abs(a[i]) + abs(c[i])\n",
    "        b[i] = abs(b[i]) + sum\n",
    "\n",
    "\n",
    "############ Проверка прогонки ##############\n",
    "def check_sweep():\n",
    "    n = 5\n",
    "    my_time = [0] * n\n",
    "    lib_time = [0] * n\n",
    "    steps = [i*1000 for i in range(1, n+1)]\n",
    "\n",
    "    for i in range(0, n):\n",
    "        size = 1000 * (i+1)\n",
    "        a = np.random.rand(size)   # элемент с индексом 0 пропадет\n",
    "        b = np.random.rand(size)\n",
    "        c = np.random.rand(size)   # элемент с индексом n-1 пропадет\n",
    "        f = np.random.rand(size)\n",
    "        \n",
    "        diag_major(a, b, c)   # матрица теперь с диаг. преобладанием\n",
    "        \n",
    "        # для библиотечной solve_banded\n",
    "        af = np.random.rand(3, size)\n",
    "        af[0][1:] = c[:-1]\n",
    "        af[1] = b\n",
    "        af[2][:-1] = a[1:]\n",
    "        \n",
    "        start_time = time.time()\n",
    "        lib_x = solve_banded((1,1), af, f)\n",
    "        end_time = time.time()\n",
    "        lib_time[i] = end_time - start_time\n",
    "        \n",
    "\n",
    "        start_time = time.time()\n",
    "        my_x = sweep(a, b, c, f)\n",
    "        end_time = time.time()\n",
    "        my_time[i] = end_time - start_time\n",
    "    \n",
    "    \n",
    "    print('My time: ', my_time)\n",
    "    print('Lib time: ', lib_time)\n",
    "\n",
    "    plt.plot(steps, my_time, 'ro-', label='Моя функция')\n",
    "    plt.plot(steps, lib_time, 'bo-', label='scipy.solve_banded')\n",
    "    plt.legend()\n",
    "\n",
    "    plt.show()\n",
    "    \n",
    "    print('Оценим норму разности решений функции sweep и библиотечной функции: ')\n",
    "    err = np.linalg.norm(lib_x-my_x)\n",
    "    print(err)\n",
    "    \n",
    "    \n",
    "check_sweep()"
   ]
  }
 ],
 "metadata": {
  "kernelspec": {
   "display_name": "Python 3",
   "language": "python",
   "name": "python3"
  },
  "language_info": {
   "codemirror_mode": {
    "name": "ipython",
    "version": 3
   },
   "file_extension": ".py",
   "mimetype": "text/x-python",
   "name": "python",
   "nbconvert_exporter": "python",
   "pygments_lexer": "ipython3",
   "version": "3.8.2"
  }
 },
 "nbformat": 4,
 "nbformat_minor": 4
}
