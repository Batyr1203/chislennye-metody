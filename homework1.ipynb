{
 "cells": [
  {
   "cell_type": "markdown",
   "metadata": {},
   "source": [
    "# Метод Гаусса "
   ]
  },
  {
   "cell_type": "code",
   "execution_count": 8,
   "metadata": {},
   "outputs": [
    {
     "name": "stdout",
     "output_type": "stream",
     "text": [
      "My time:  [0.15822672843933105, 0.5739479064941406, 1.3904681205749512, 2.341061592102051, 3.7289059162139893]\n",
      "lib_time:  [0.025662899017333984, 0.0018117427825927734, 0.0182340145111084, 0.009048938751220703, 0.016607999801635742]\n"
     ]
    },
    {
     "data": {
      "image/png": "[encoded data removed]",
      "text/plain": [
       "<Figure size 432x288 with 1 Axes>"
      ]
     },
     "metadata": {
      "needs_background": "light"
     },
     "output_type": "display_data"
    },
    {
     "name": "stdout",
     "output_type": "stream",
     "text": [
      "Оценим норму разности решений функции gauss и библиотечной функции: \n",
      "4.9673428657094446e-17\n"
     ]
    }
   ],
   "source": [
    "import numpy as np\n",
    "import time\n",
    "import matplotlib.pyplot as plt\n",
    "\n",
    "###### Метод Гаусса ########\n",
    "def gauss(A, f):\n",
    "    n = f.size\n",
    "    x = np.zeros(n)\n",
    "\n",
    "    for k in range(n):\n",
    "        f[k] = f[k] / A[k][k]\n",
    "        A[k] = A[k] / A[k][k]\n",
    "        for i in range(k + 1, n):\n",
    "            f[i] = f[i] - f[k] * A[i][k]\n",
    "            A[i] = A[i] - A[k] * A[i][k]\n",
    "            A[i][k] = 0\n",
    "\n",
    "    for i in range(n - 1, -1, -1):\n",
    "        x[i] = f[i]\n",
    "        for j in range(i + 1, n):\n",
    "            x[i] = x[i] - A[i][j] * x[j]\n",
    "\n",
    "    return x\n",
    "\n",
    "\n",
    "    \n",
    "##### Превращение матрицы в матрицу с диагональным преобладанием\n",
    "def diag_major(A):\n",
    "    n = A.shape[0]\n",
    "    for i in range(n):      # Делаем диагональный элемент уж точно больше суммы\n",
    "        sum = 0                                          #  всех в строке\n",
    "        for j in range(n):\n",
    "            if j != i:\n",
    "                sum += abs(A[i][j])\n",
    "        A[i][i] = abs(A[i][i]) + sum\n",
    "    \n",
    "\n",
    "########## Проверка метода Гаусса ###############\n",
    "def check_gauss():\n",
    "    n = 5      # n * 100 - максимальный порядок матриц\n",
    "    my_time = [0] * n\n",
    "    lib_time = [0] * n\n",
    "    steps = [i*100 for i in range(1, n+1)]\n",
    "\n",
    "    for i in range(0, n):\n",
    "        A = np.random.rand(100 * (i+1), 100 * (i+1))\n",
    "        f = np.random.rand(100 * (i+1))\n",
    "\n",
    "        diag_major(A) # диагональное преобладание\n",
    "\n",
    "        start_time = time.time()   # библиотечный метод\n",
    "        np_x = np.linalg.solve(A, f)\n",
    "        end_time = time.time()\n",
    "        lib_time[i] = end_time - start_time\n",
    "    \n",
    "        start_time = time.time()   # \"мой\" метод\n",
    "        my_x = gauss(A, f)\n",
    "        end_time = time.time()\n",
    "        my_time[i] = end_time - start_time\n",
    "    \n",
    "    print('My time: ', my_time)\n",
    "    print('lib_time: ', lib_time)\n",
    "\n",
    "    plt.plot(steps, my_time, 'ro-', label='Моя функция')\n",
    "    plt.plot(steps, lib_time, 'bo-', label='np.linalg')\n",
    "    plt.legend()\n",
    "\n",
    "    plt.show()\n",
    "    \n",
    "    print('Оценим норму разности решений функции gauss и библиотечной функции: ')\n",
    "    err = np.linalg.norm(np_x-my_x)\n",
    "    print(err)\n",
    "    \n",
    "check_gauss()\n",
    "\n",
    "\n",
    "\n"
   ]
  },
  {
   "cell_type": "markdown",
   "metadata": {},
   "source": [
    "# Метод Холецкого"
   ]
  },
  {
   "cell_type": "code",
   "execution_count": 51,
   "metadata": {},
   "outputs": [
    {
     "name": "stdout",
     "output_type": "stream",
     "text": [
      "My time:  [0.5030434131622314, 3.7308413982391357, 11.63319993019104]\n",
      "lib_time:  [0.0010576248168945312, 0.0019626617431640625, 0.0037784576416015625]\n"
     ]
    },
    {
     "data": {
      "image/png": "[encoded data removed]",
      "text/plain": [
       "<Figure size 432x288 with 1 Axes>"
      ]
     },
     "metadata": {
      "needs_background": "light"
     },
     "output_type": "display_data"
    },
    {
     "name": "stdout",
     "output_type": "stream",
     "text": [
      "Оценим норму разности решений функции gauss и библиотечной функции: \n",
      "0.013425570866286353\n"
     ]
    }
   ],
   "source": [
    "import numpy as np\n",
    "import time\n",
    "import matplotlib.pyplot as plt\n",
    "from scipy.linalg import solve_triangular\n",
    "\n",
    "# Метод Холецкого решения СЛАУ\n",
    "def cholecky(A, f):\n",
    "    n = A.shape[0]\n",
    "    U = np.zeros((n, n))\n",
    "\n",
    "    for i in range(n):\n",
    "\n",
    "                       # На данном этапе создаем матрицу U\n",
    "        sum = 0        # которая определяется из формулы A = U(transp) * U\n",
    "        for k in range(i):\n",
    "            sum += U[k][i] ** 2\n",
    "        U[i][i] = (A[i][i] - sum) ** 0.5\n",
    "\n",
    "        for j in range(i+1, n):\n",
    "            sum = 0\n",
    "            for k in range(i):\n",
    "                sum += U[k][i] * U[k][j]\n",
    "            U[i][j] = (A[i][j] - sum) / U[i][i]\n",
    "            \n",
    "                        # Остается решить прямой метод\n",
    "                        # И обратный\n",
    "            \n",
    "    # U(transp) * y = f\n",
    "    y = np.zeros(n)\n",
    "    for i in range(n):\n",
    "        sum = 0\n",
    "        for k in range(i):\n",
    "            sum += U[k][i] * y[k]\n",
    "        y[i] = (f[i] - sum) / U[i][i]\n",
    "        \n",
    "    # U * x = y\n",
    "    x = np.zeros(n)\n",
    "    for i in range(n):\n",
    "        sum = 0\n",
    "        for k in range(i+1, n):\n",
    "            sum += U[i][k] * x[k]\n",
    "        x[i] = (y[i] - sum) / U[i][i]\n",
    "        \n",
    "    return x\n",
    "\n",
    "\n",
    "\n",
    "\n",
    "##### Превращение матрицы в матрицу с диагональным преобладанием\n",
    "def diag_major(A):\n",
    "    n = A.shape[0]\n",
    "    for i in range(n):      # Делаем диагональный элемент уж точно больше суммы\n",
    "        sum = 0                                          #  всех в строке\n",
    "        for j in range(n):\n",
    "            if j != i:\n",
    "                sum += abs(A[i][j])\n",
    "        A[i][i] = abs(A[i][i]) + sum\n",
    "    \n",
    "\n",
    "\n",
    "def check_cholecky():\n",
    "    n = 3      # n * 100 - максимальный порядок матриц\n",
    "    my_time = [0] * n\n",
    "    lib_time = [0] * n\n",
    "    steps = [i*100 for i in range(1, n+1)]\n",
    "\n",
    "    for i in range(0, n):\n",
    "        A = np.random.rand(100 * (i+1), 100 * (i+1))\n",
    "        f = np.random.rand(100 * (i+1))\n",
    "\n",
    "        diag_major(A) # диагональное преобладание\n",
    "\n",
    "        start_time = time.time()   # библиотечный метод\n",
    "        U = np.linalg.cholesky(A)\n",
    "        y = solve_triangular(U, f, lower=True)\n",
    "        U = np.transpose(U)\n",
    "        lib_x = solve_triangular(U, y, lower=False)\n",
    "        end_time = time.time()\n",
    "        lib_time[i] = end_time - start_time\n",
    "    \n",
    "        start_time = time.time()   # \"мой\" метод\n",
    "        my_x = cholecky(A, f)\n",
    "        end_time = time.time()\n",
    "        my_time[i] = end_time - start_time\n",
    "    \n",
    "    print('My time: ', my_time)\n",
    "    print('lib_time: ', lib_time)\n",
    "\n",
    "    plt.plot(steps, my_time, 'ro-', label='Моя функция')\n",
    "    plt.plot(steps, lib_time, 'bo-', label='Библиотечная')\n",
    "    plt.legend()\n",
    "\n",
    "    plt.show()\n",
    "    \n",
    "    print('Оценим норму разности решений функции gauss и библиотечной функции: ')\n",
    "    err = np.linalg.norm(lib_x-my_x)\n",
    "    print(err)\n",
    "\n",
    "check_cholecky()\n",
    "\n",
    "\n"
   ]
  },
  {
   "cell_type": "markdown",
   "metadata": {},
   "source": [
    "# Метод прогонки (3х диагональной матрицы)"
   ]
  },
  {
   "cell_type": "code",
   "execution_count": 44,
   "metadata": {},
   "outputs": [
    {
     "name": "stdout",
     "output_type": "stream",
     "text": [
      "My time:  [0.0065920352935791016, 0.013459920883178711, 0.020353078842163086, 0.02728271484375, 0.03756284713745117]\n",
      "Lib time:  [0.00038313865661621094, 0.00042510032653808594, 0.0004646778106689453, 0.0004782676696777344, 0.0006072521209716797]\n"
     ]
    },
    {
     "data": {
      "image/png": "[encoded data removed]",
      "text/plain": [
       "<Figure size 432x288 with 1 Axes>"
      ]
     },
     "metadata": {
      "needs_background": "light"
     },
     "output_type": "display_data"
    }
   ],
   "source": [
    "import numpy as np\n",
    "import time\n",
    "import matplotlib.pyplot as plt\n",
    "from scipy.linalg import solve_banded\n",
    "\n",
    "\n",
    "############ Прогонка #################\n",
    "def sweep (a, b, c, f):\n",
    "    n = f.size\n",
    "    \n",
    "    alpha = [0] * (n+1)\n",
    "    betta = [0] * (n+1)\n",
    "    x = [0] * (n+1)\n",
    "    a[0] = 0\n",
    "    c[n-1] = 0\n",
    "    alpha[0] = 0\n",
    "    betta[0] = 0\n",
    "    \n",
    "    for i in range(n):\n",
    "        d = a[i] * alpha[i] + b[i]\n",
    "        alpha[i+1] = -c[i] / d\n",
    "        betta[i+1] = (f[i] - a[i] * betta[i]) / d\n",
    "        \n",
    "    x[n-1] = betta[n]\n",
    "    for i in range(n-1, -1, -1):\n",
    "        x[i] = alpha[i+1] * x[i+1] + betta[i+1]\n",
    "\n",
    "    x = x[:-1]\n",
    "    return x\n",
    "\n",
    "\n",
    "def diag_major(a, b, c):\n",
    "    n = len(b)\n",
    "    for i in range(n):\n",
    "        sum = abs(a[i]) + abs(c[i])\n",
    "        b[i] = abs(b[i]) + sum\n",
    "\n",
    "\n",
    "############ Проверка прогонки ##############\n",
    "def check_sweep():\n",
    "    n = 5\n",
    "    my_time = [0] * n\n",
    "    lib_time = [0] * n\n",
    "    steps = [i*1000 for i in range(1, n+1)]\n",
    "\n",
    "    for i in range(0, n):\n",
    "        size = 1000 * (i+1)\n",
    "        a = np.random.rand(size)\n",
    "        b = np.random.rand(size)\n",
    "        c = np.random.rand(size)\n",
    "        f = np.random.rand(size)\n",
    "        \n",
    "        diag_major(a, b, c)   # матрица теперь с диаг. преобладанием\n",
    "        \n",
    "        # для библиотечной solve_banded\n",
    "        af = np.random.rand(3, size)\n",
    "        af[0] = c\n",
    "        af[1] = b\n",
    "        af[2] = a\n",
    "        \n",
    "        start_time = time.time()\n",
    "        lib_x = solve_banded((1,1), af, f)\n",
    "        end_time = time.time()\n",
    "        lib_time[i] = end_time - start_time\n",
    "        \n",
    "\n",
    "        start_time = time.time()\n",
    "        my_x = sweep(a, b, c, f)\n",
    "        end_time = time.time()\n",
    "        my_time[i] = end_time - start_time\n",
    "    \n",
    "    \n",
    "    print('My time: ', my_time)\n",
    "    print('Lib time: ', lib_time)\n",
    "\n",
    "    plt.plot(steps, my_time, 'ro-', label='Моя функция')\n",
    "    plt.plot(steps, lib_time, 'bo-', label='scipy.solve_banded')\n",
    "    plt.legend()\n",
    "\n",
    "    plt.show()\n",
    "    \n",
    "    # Норма разности решений не в близи нуля\n",
    "    # *Ошибка в решении - проверить индексы в конце метода прогонки\n",
    "    \n",
    "check_sweep()"
   ]
  }
 ],
 "metadata": {
  "kernelspec": {
   "display_name": "Python 3",
   "language": "python",
   "name": "python3"
  },
  "language_info": {
   "codemirror_mode": {
    "name": "ipython",
    "version": 3
   },
   "file_extension": ".py",
   "mimetype": "text/x-python",
   "name": "python",
   "nbconvert_exporter": "python",
   "pygments_lexer": "ipython3",
   "version": "3.8.2"
  }
 },
 "nbformat": 4,
 "nbformat_minor": 4
}
