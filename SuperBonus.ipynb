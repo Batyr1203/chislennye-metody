{
 "cells": [
  {
   "cell_type": "markdown",
   "metadata": {},
   "source": [
    "Программа интерполирует **(x(t), y(t))** на равномерной сетке <br>\n",
    "В качестве новых точек используются точки от нажатия мышки. <br>\n",
    "Интерполяция начинается после добавления 4-ой точки. <br>\n",
    "В программе для интерполирования двумерной параметрической функции <br>\n",
    "использовались функции из библиотеки scipy.interpolate"
   ]
  },
  {
   "cell_type": "code",
   "execution_count": 1,
   "metadata": {},
   "outputs": [],
   "source": [
    "%matplotlib notebook"
   ]
  },
  {
   "cell_type": "code",
   "execution_count": 1,
   "metadata": {},
   "outputs": [
    {
     "name": "stdout",
     "output_type": "stream",
     "text": [
      "x=-66.976165,y=64.714225\n",
      "x=-8.969082,y=69.981968\n",
      "x=15.727003,y=34.323399\n",
      "x=50.378099,y=41.211986\n",
      "x=90.772471,y=12.847215\n",
      "x=64.927730,y=-42.666694\n",
      "x=15.727003,y=-71.031465\n",
      "x=-48.980569,y=-61.306400\n",
      "x=-79.228487,y=-23.621776\n",
      "x=-67.359050,y=63.903803\n"
     ]
    },
    {
     "data": {
      "text/plain": [
       "0"
      ]
     },
     "execution_count": 1,
     "metadata": {},
     "output_type": "execute_result"
    }
   ],
   "source": [
    "import sys\n",
    "import random\n",
    "import numpy as np\n",
    "from scipy.interpolate import splprep, splev\n",
    "\n",
    "from PyQt5 import QtCore, QtWidgets, QtGui\n",
    "\n",
    "import matplotlib\n",
    "from matplotlib.backends.backend_qt5agg import FigureCanvasQTAgg as FigureCanvas\n",
    "from matplotlib.backends.backend_qt5agg import FigureCanvasQTAgg, NavigationToolbar2QT as NavigationToolbar\n",
    "from matplotlib.figure import Figure\n",
    "\n",
    "\n",
    "class Canvas(FigureCanvasQTAgg):\n",
    "\n",
    "    def __init__(self, parent=None, width=5, height=4, dpi=100):\n",
    "        fig = Figure(figsize=(width, height), dpi=dpi)\n",
    "        self.axes = fig.add_subplot(111)\n",
    "        fig.suptitle('Двумерная интерполяция на PyQt')\n",
    "        super(Canvas, self).__init__(fig)\n",
    "\n",
    "\n",
    "class MainWindow(QtWidgets.QMainWindow):\n",
    "\n",
    "    def __init__(self, *args, **kwargs):\n",
    "        super(MainWindow, self).__init__(*args, **kwargs)\n",
    "\n",
    "        self.canvas = Canvas(self, width=5, height=4, dpi=100)\n",
    "        self.setCentralWidget(self.canvas)\n",
    "        self.canvas.mpl_connect('button_press_event', self.mouse_click)\n",
    "\n",
    "        self.xdata = np.array([])       # эти массивы хранят только точки, добавленные мышкой\n",
    "        self.ydata = np.array([])\n",
    "\n",
    "        self.updated_xdata = np.array([]) # эти массивы хранят интерполированные значения\n",
    "        self.updated_ydata = np.array([])\n",
    "\n",
    "        self.update_plot()\n",
    "\n",
    "        toolbar = NavigationToolbar(self.canvas, self) # Следующий код предназначен для панели инструментов\n",
    "\n",
    "        layout = QtWidgets.QVBoxLayout()\n",
    "        layout.addWidget(toolbar)\n",
    "        layout.addWidget(self.canvas)\n",
    "\n",
    "        widget = QtWidgets.QWidget()\n",
    "        widget.setLayout(layout)\n",
    "        self.setCentralWidget(widget)\n",
    "\n",
    "        self.show()\n",
    "\n",
    "\n",
    "\n",
    "    def update_plot(self):                  # Обновление графика\n",
    "        self.canvas.axes.cla()\n",
    "        self.canvas.axes.axis([-100, 100, -100, 100])\n",
    "        self.canvas.axes.plot(self.xdata, self.ydata, 'rx--', label='Линейная', linewidth=0.5)\n",
    "        self.canvas.axes.plot(self.updated_xdata, self.updated_ydata, 'b', label='Сплайновая')\n",
    "        self.canvas.axes.set(xlabel='X(t)', ylabel='Y(t)')\n",
    "        self.canvas.axes.legend()\n",
    "        self.canvas.draw()\n",
    "\n",
    "\n",
    "\n",
    "    def mouse_click(self, event):               # Обработка нажатия мышкой на полотно\n",
    "        ix, iy = event.xdata, event.ydata   # Считывание координат точки нажатия\n",
    "        print('x=%f,y=%f'%(ix, iy))\n",
    "        self.xdata = np.append(self.xdata, [ix])   # Добавление координат новой точки\n",
    "        self.ydata = np.append(self.ydata, [iy])\n",
    "\n",
    "        if len(self.xdata) > 3:        # Функция интерполирования начинает работу, имея 4 точки\n",
    "            tck, u = splprep([self.xdata, self.ydata], s=0, k=3)\n",
    "            u_new = np.linspace(u.min(), u.max(), 1000)\n",
    "            x_new, y_new = splev(u_new, tck, der=0)\n",
    "\n",
    "            self.updated_xdata = x_new.copy()\n",
    "            self.updated_ydata = y_new.copy()\n",
    "\n",
    "        self.update_plot()\n",
    "\n",
    "\n",
    "\n",
    "\n",
    "app = QtWidgets.QApplication(sys.argv)\n",
    "w = MainWindow()\n",
    "app.exec_()"
   ]
  },
  {
   "cell_type": "markdown",
   "metadata": {},
   "source": [
    "![title](example1.png)"
   ]
  },
  {
   "cell_type": "markdown",
   "metadata": {},
   "source": [
    "x=-8.707763,y=1.568369 <br>\n",
    "x=-6.046712,y=4.445367 <br>\n",
    "x=-3.366517,y=4.891100 <br>\n",
    "x=-0.896908,y=1.933059 <br>\n",
    "x=-2.677324,y=-2.159572 <br>\n",
    "x=-4.036566,y=-0.052475 <br>\n",
    "x=3.295683,y=3.351298 <br>\n",
    "x=6.588494,y=2.905566 <br>\n",
    "\n",
    "![title](example3.png)"
   ]
  }
 ],
 "metadata": {
  "kernelspec": {
   "display_name": "Python 3",
   "language": "python",
   "name": "python3"
  },
  "language_info": {
   "codemirror_mode": {
    "name": "ipython",
    "version": 3
   },
   "file_extension": ".py",
   "mimetype": "text/x-python",
   "name": "python",
   "nbconvert_exporter": "python",
   "pygments_lexer": "ipython3",
   "version": "3.8.2"
  }
 },
 "nbformat": 4,
 "nbformat_minor": 4
}
