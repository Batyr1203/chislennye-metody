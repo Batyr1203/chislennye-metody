{
 "cells": [
  {
   "cell_type": "code",
   "execution_count": 8,
   "metadata": {
    "scrolled": true
   },
   "outputs": [
    {
     "name": "stdout",
     "output_type": "stream",
     "text": [
      "My time:  [0.005511760711669922, 0.01167917251586914, 0.01744246482849121, 0.022669076919555664, 0.02818918228149414]\n",
      "Lib time:  [0, 0, 0, 0, 0]\n"
     ]
    },
    {
     "data": {
      "image/png": "[encoded data removed]",
      "text/plain": [
       "<Figure size 432x288 with 1 Axes>"
      ]
     },
     "metadata": {
      "needs_background": "light"
     },
     "output_type": "display_data"
    }
   ],
   "source": [
    "import numpy as np\n",
    "import time\n",
    "import matplotlib.pyplot as plt\n",
    "from scipy.linalg import solve_banded\n",
    "\n",
    "###### Метод Гаусса ########\n",
    "def gauss(A, f):\n",
    "    n = f.size\n",
    "    x = np.zeros(n)\n",
    "\n",
    "    for k in range(n):\n",
    "        f[k] = f[k] / A[k][k]\n",
    "        A[k] = A[k] / A[k][k]\n",
    "        for i in range(k + 1, n):\n",
    "            f[i] = f[i] - f[k] * A[i][k]\n",
    "            A[i] = A[i] - A[k] * A[i][k]\n",
    "            A[i][k] = 0\n",
    "              \n",
    "    for i in range(n - 1, -1, -1):\n",
    "        x[i] = f[i]\n",
    "        for j in range(i + 1, n):\n",
    "            x[i] = x[i] - A[i][j] * x[j]\n",
    "\n",
    "    return x\n",
    "    \n",
    "############ Прогонка #################\n",
    "def sweep (a, b, c, f):\n",
    "    n = f.size\n",
    "    \n",
    "    alpha = [0] * (n+1)\n",
    "    betta = [0] * (n+1)\n",
    "    x = [0] * (n+1)\n",
    "    a[0] = 0\n",
    "    c[n-1] = 0\n",
    "    alpha[0] = 0\n",
    "    betta[0] = 0\n",
    "    \n",
    "    for i in range(n):\n",
    "        d = a[i] * alpha[i] + b[i]\n",
    "        alpha[i+1] = -c[i] / d\n",
    "        betta[i+1] = (f[i] - a[i] * betta[i]) / d\n",
    "        \n",
    "    x[n] = 0\n",
    "    for i in range(n-1, -1, -1):\n",
    "        x[i] = alpha[i+1] * x[i+1] + betta[i+1]\n",
    "\n",
    "    return x\n",
    "\n",
    "########## Проверка метода Гаусса ###############\n",
    "def check_gauss():\n",
    "    n = 5\n",
    "    my_time = [0] * n\n",
    "    lib_time = [0] * n\n",
    "\n",
    "    for i in range(0, n):\n",
    "        A = np.random.rand(100 * (i+1), 100 * (i+1))\n",
    "        f = np.random.rand(100 * (i+1))\n",
    "\n",
    "        start_time = time.time()\n",
    "        x = np.linalg.solve(A, f)\n",
    "        end_time = time.time()\n",
    "        lib_time[i] = end_time - start_time\n",
    "    \n",
    "        start_time = time.time()\n",
    "        x = gauss(A, f)\n",
    "        end_time = time.time()\n",
    "        my_time[i] = end_time - start_time\n",
    "    \n",
    "    print('My time: ', my_time)\n",
    "    print('lib_time: ', lib_time)\n",
    "\n",
    "    plt.plot(my_time)\n",
    "    plt.plot(lib_time)\n",
    "    plt.show()\n",
    "    \n",
    "    \n",
    "############ Проверка прогонки ##############\n",
    "def check_sweep():\n",
    "    n = 5\n",
    "    my_time = [0] * n\n",
    "    lib_time = [0] * n\n",
    "\n",
    "    for i in range(0, n):\n",
    "        size = 1000 * (i+1)\n",
    "        a = np.random.rand(size)\n",
    "        b = np.random.rand(size)\n",
    "        c = np.random.rand(size)\n",
    "        f = np.random.rand(size)\n",
    "        \n",
    "        A = np.zeros((size, size))\n",
    "        for j in range(size):\n",
    "            A[j][j] = b[j]\n",
    "            if j != size-1:\n",
    "                A[j+1][j] = a[j+1]\n",
    "                A[j][j+1] = c[j]\n",
    "                \n",
    "        start_time = time.time()\n",
    "        x = sweep(a, b, c, f)\n",
    "        end_time = time.time()\n",
    "        my_time[i] = end_time - start_time\n",
    "    \n",
    "    print('My time: ', my_time)\n",
    "    print('Lib time: ', lib_time)\n",
    "\n",
    "    plt.plot(my_time)\n",
    "    plt.show()\n",
    "    \n",
    "    \n",
    "\n",
    "check_sweep()"
   ]
  },
  {
   "cell_type": "code",
   "execution_count": 9,
   "metadata": {},
   "outputs": [
    {
     "ename": "IndexError",
     "evalue": "index 3 is out of bounds for axis 0 with size 3",
     "output_type": "error",
     "traceback": [
      "\u001b[0;31m---------------------------------------------------------------------------\u001b[0m",
      "\u001b[0;31mIndexError\u001b[0m                                Traceback (most recent call last)",
      "\u001b[0;32m<ipython-input-9-4cede1b8a783>\u001b[0m in \u001b[0;36m<module>\u001b[0;34m\u001b[0m\n\u001b[1;32m     22\u001b[0m \u001b[0;34m\u001b[0m\u001b[0m\n\u001b[1;32m     23\u001b[0m \u001b[0mA\u001b[0m \u001b[0;34m=\u001b[0m \u001b[0mnp\u001b[0m\u001b[0;34m.\u001b[0m\u001b[0marray\u001b[0m\u001b[0;34m(\u001b[0m\u001b[0;34m[\u001b[0m\u001b[0;34m[\u001b[0m\u001b[0;36m1\u001b[0m\u001b[0;34m,\u001b[0m \u001b[0;36m2\u001b[0m\u001b[0;34m,\u001b[0m \u001b[0;36m3\u001b[0m\u001b[0;34m]\u001b[0m\u001b[0;34m,\u001b[0m \u001b[0;34m[\u001b[0m\u001b[0;36m2\u001b[0m\u001b[0;34m,\u001b[0m \u001b[0;36m3\u001b[0m\u001b[0;34m,\u001b[0m \u001b[0;36m4\u001b[0m\u001b[0;34m]\u001b[0m\u001b[0;34m,\u001b[0m \u001b[0;34m[\u001b[0m\u001b[0;36m5\u001b[0m\u001b[0;34m,\u001b[0m \u001b[0;36m6\u001b[0m\u001b[0;34m,\u001b[0m \u001b[0;36m2\u001b[0m\u001b[0;34m]\u001b[0m\u001b[0;34m]\u001b[0m\u001b[0;34m)\u001b[0m\u001b[0;34m\u001b[0m\u001b[0;34m\u001b[0m\u001b[0m\n\u001b[0;32m---> 24\u001b[0;31m \u001b[0mU\u001b[0m \u001b[0;34m=\u001b[0m \u001b[0mcholesky\u001b[0m\u001b[0;34m(\u001b[0m\u001b[0mA\u001b[0m\u001b[0;34m)\u001b[0m\u001b[0;34m\u001b[0m\u001b[0;34m\u001b[0m\u001b[0m\n\u001b[0m",
      "\u001b[0;32m<ipython-input-9-4cede1b8a783>\u001b[0m in \u001b[0;36mcholesky\u001b[0;34m(A)\u001b[0m\n\u001b[1;32m     17\u001b[0m             \u001b[0;32mfor\u001b[0m \u001b[0mk\u001b[0m \u001b[0;32min\u001b[0m \u001b[0mrange\u001b[0m\u001b[0;34m(\u001b[0m\u001b[0mi\u001b[0m\u001b[0;34m-\u001b[0m\u001b[0;36m1\u001b[0m\u001b[0;34m)\u001b[0m\u001b[0;34m:\u001b[0m\u001b[0;34m\u001b[0m\u001b[0;34m\u001b[0m\u001b[0m\n\u001b[1;32m     18\u001b[0m                 \u001b[0msum2\u001b[0m \u001b[0;34m+=\u001b[0m \u001b[0mU\u001b[0m\u001b[0;34m[\u001b[0m\u001b[0mk\u001b[0m\u001b[0;34m]\u001b[0m\u001b[0;34m[\u001b[0m\u001b[0mi\u001b[0m\u001b[0;34m]\u001b[0m \u001b[0;34m*\u001b[0m \u001b[0mU\u001b[0m\u001b[0;34m[\u001b[0m\u001b[0mk\u001b[0m\u001b[0;34m]\u001b[0m\u001b[0;34m[\u001b[0m\u001b[0mj\u001b[0m\u001b[0;34m]\u001b[0m\u001b[0;34m\u001b[0m\u001b[0;34m\u001b[0m\u001b[0m\n\u001b[0;32m---> 19\u001b[0;31m             \u001b[0mU\u001b[0m\u001b[0;34m[\u001b[0m\u001b[0mi\u001b[0m\u001b[0;34m]\u001b[0m\u001b[0;34m[\u001b[0m\u001b[0mj\u001b[0m\u001b[0;34m]\u001b[0m \u001b[0;34m=\u001b[0m \u001b[0;34m(\u001b[0m\u001b[0mA\u001b[0m\u001b[0;34m[\u001b[0m\u001b[0mi\u001b[0m\u001b[0;34m]\u001b[0m\u001b[0;34m[\u001b[0m\u001b[0mj\u001b[0m\u001b[0;34m]\u001b[0m \u001b[0;34m-\u001b[0m \u001b[0msum2\u001b[0m\u001b[0;34m)\u001b[0m \u001b[0;34m/\u001b[0m \u001b[0mU\u001b[0m\u001b[0;34m[\u001b[0m\u001b[0mi\u001b[0m\u001b[0;34m]\u001b[0m\u001b[0;34m[\u001b[0m\u001b[0mi\u001b[0m\u001b[0;34m]\u001b[0m\u001b[0;34m\u001b[0m\u001b[0;34m\u001b[0m\u001b[0m\n\u001b[0m\u001b[1;32m     20\u001b[0m \u001b[0;34m\u001b[0m\u001b[0m\n\u001b[1;32m     21\u001b[0m     \u001b[0;32mreturn\u001b[0m \u001b[0mU\u001b[0m\u001b[0;34m\u001b[0m\u001b[0;34m\u001b[0m\u001b[0m\n",
      "\u001b[0;31mIndexError\u001b[0m: index 3 is out of bounds for axis 0 with size 3"
     ]
    }
   ],
   "source": [
    "import numpy as np\n",
    "from math import sqrt\n",
    "\n",
    "def cholesky(A):\n",
    "    n = A.size\n",
    "    U = np.zeros((n, n))\n",
    "    sum1 = 0\n",
    "    sum2 = 0\n",
    "    \n",
    "    for i in range(n):\n",
    "        if i != 0:\n",
    "            sum1 += U[i-1][i] ** 2\n",
    "        U[i][i] = sqrt(A[i][i] - sum1)\n",
    "\n",
    "        for j in range(i+1, n):\n",
    "            sum2 = 0\n",
    "            for k in range(i-1):\n",
    "                sum2 += U[k][i] * U[k][j]\n",
    "            U[i][j] = (A[i][j] - sum2) / U[i][i]\n",
    "    \n",
    "    return U\n",
    "    \n",
    "A = np.array([[1, 2, 3], [2, 3, 4], [5, 6, 2]])\n",
    "U = cholesky(A)"
   ]
  }
 ],
 "metadata": {
  "kernelspec": {
   "display_name": "Python 3",
   "language": "python",
   "name": "python3"
  },
  "language_info": {
   "codemirror_mode": {
    "name": "ipython",
    "version": 3
   },
   "file_extension": ".py",
   "mimetype": "text/x-python",
   "name": "python",
   "nbconvert_exporter": "python",
   "pygments_lexer": "ipython3",
   "version": "3.7.4"
  }
 },
 "nbformat": 4,
 "nbformat_minor": 4
}
