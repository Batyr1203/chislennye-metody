{
 "cells": [
  {
   "cell_type": "markdown",
   "metadata": {},
   "source": [
    "# Итерационные методы решения СЛАУ\n",
    "\n",
    "### Постановка задачи:\n",
    "Пусть известны матрица вещественных чисел $A\\in \\rm I\\!R ^{n*n}$ и вектор правой части $f\\in \\rm I\\!R^n$ уравнения:\n",
    "$$Ax = f,$$\n",
    "Требуется найти вектор $x \\in \\rm I\\!R^n$, из этого уравнения.\n",
    "\n",
    "### Решение:\n",
    "Так так нижеприведенные методы являются итерационными, перед началом расчетов необходимо выбирать некоторое начальное приближение $x_0$, например, нулевой вектор.\n",
    "\n",
    "Решение будем искать по-шагово. Промежуточные решения на шагах $k$ и ($k+1$) связываются между собой по следующей формуле:\n",
    "$$B\\frac{x^{k+1}-x^k}{\\tau} + Ax^k = f, \\quad \\quad \\quad \\quad (*)$$\n",
    "где $A>0$ исходная матрица, $B-$ невыроденная матрица, зависящая от метода, $\\tau-$ итерационный параметр.\n",
    "Выбирать матрицу $B$ будем так, чтобы ее можно было обратить быстрее, чем матрицу $A$. "
   ]
  },
  {
   "cell_type": "markdown",
   "metadata": {},
   "source": [
    "# Метод Якоби\n",
    "\n",
    "Полагаем $B=D$, а параметр $\\tau=1$ ($D-$ диагональная матрица). Тогда выражение $(*)$ будет выглядить следующим образом:\n",
    "$$D(x^{k+1} - x^k) + (L + D + U)x^k = f.$$\n",
    "Преобразуем:\n",
    "$$ Dx^{k+1} + (L+U)x^k = f,$$\n",
    "или, выписывая поэлементно:\n",
    "$$ \\sum_{j=1}^{i-1} a_{i,j}x_j^k + a_{i,i}x_i^{k+1}+ \\sum_{j=i+1}^n a_{i,j}x_j^k = f_i.$$\n",
    "Эта формула легко разрешается относительно неизвестной $x_i^{k+1}.$ Вычисляя ее при $i=0,...,n$, находим $(k+1)$-ый вектор решения."
   ]
  },
  {
   "cell_type": "code",
   "execution_count": 21,
   "metadata": {},
   "outputs": [
    {
     "name": "stdout",
     "output_type": "stream",
     "text": [
      "My time:  [0.1251676082611084, 0.09675908088684082, 0.21219921112060547, 0.3737506866455078, 0.578859806060791]\n",
      "lib_time:  [0.0060882568359375, 0.002571582794189453, 0.025382518768310547, 0.013214588165283203, 0.04569721221923828]\n"
     ]
    },
    {
     "data": {
      "image/png": "[encoded data removed]",
      "text/plain": [
       "<Figure size 432x288 with 1 Axes>"
      ]
     },
     "metadata": {
      "needs_background": "light"
     },
     "output_type": "display_data"
    },
    {
     "name": "stdout",
     "output_type": "stream",
     "text": [
      "Оценим норму разности решений приведенной функции Якоби и библиотечной функции: \n",
      "0.022109042301648958\n"
     ]
    }
   ],
   "source": [
    "##### Метод Якоби итерационного решения СЛАУ #####\n",
    "\n",
    "import numpy as np\n",
    "from math import sqrt\n",
    "import matplotlib.pyplot as plt\n",
    "import time\n",
    "import scipy.linalg\n",
    "\n",
    "### Функция для вычисления одной итерации\n",
    "def jacobi(A, f, x):\n",
    "    n = f.size\n",
    "    x_new = np.zeros(n)\n",
    "\n",
    "    for i in range(n):\n",
    "\n",
    "        tmp = f[i]\n",
    "        for j in range(n):\n",
    "            if i != j:\n",
    "                tmp -= A[i][j] * x[j]\n",
    "        x_new[i] = tmp / A[i][i]\n",
    "\n",
    "    return x_new\n",
    "\n",
    "\n",
    "\n",
    "### Вычисление корней в цикле по заданным начальному приближению\n",
    "###      и точности\n",
    "\n",
    "def my_solve(A, f):\n",
    "    eps = 0.1        # Точность между двумя соседними приближениями\n",
    "    n = f.size\n",
    "    x = np.zeros(n)  # начальное приближение\n",
    "    i = 0            # считаем количество итераций\n",
    "\n",
    "    while True:\n",
    "        i = i + 1\n",
    "        x_new = jacobi(A, f, x)\n",
    "        a = np.array(x_new)\n",
    "        b = np.array(x)\n",
    "        if np.linalg.norm(a-b) < eps:\n",
    "            break\n",
    "        x = x_new[:]\n",
    "\n",
    "    return x_new\n",
    "\n",
    "\n",
    "### Трансформация произвольной матрицы в матрицу\n",
    "        ### с диагональным преобладанием\n",
    "# Здесь суммируем модули всех элементов строки без диагонального\n",
    "# Прибавляем эту сумму к диагональному элементу\n",
    "def diag_domin(A, n):\n",
    "    for i in range(n):\n",
    "        s = 0\n",
    "        for j in range(n):\n",
    "            if i != j:\n",
    "                s += abs(A[i][j])\n",
    "        if (A[i][i] < 0):\n",
    "            A[i][i] -= s\n",
    "        else:\n",
    "            A[i][i] += s\n",
    "    return A\n",
    "\n",
    "\n",
    "########## Проверка метода Якоби ##############\n",
    "\n",
    "\"\"\"\n",
    " #  Пример из лекций\n",
    "A = np.array([[2, -1, 0, -1],\n",
    "              [0, 2, -1, 0],\n",
    "              [-1, 1, 3, 0],\n",
    "              [1, 0, -2, 4]])\n",
    "f = np.array([4, 3, 2, 1])\n",
    "n = f.size\n",
    "\n",
    "x = solve(A, f)\n",
    "print(x)\n",
    "\"\"\"\n",
    "\n",
    "### Реализация на матрицах 100, 200, 300 ... с диагональным преобладанием\n",
    "def check_jacobi():\n",
    "    n = 5\n",
    "    my_time = [0] * n\n",
    "    lib_time = [0] * n\n",
    "    steps = [i*100 for i in range(1, n+1)]\n",
    "\n",
    "    for i in range(0, n):\n",
    "        size = 100 * (i+1)\n",
    "        A = np.random.rand(size, size)\n",
    "        f = np.random.rand(size)\n",
    "        A = diag_domin(A, size)  # матрица должна иметь диагональное преобладание\n",
    "\n",
    "        start_time = time.time()\n",
    "        lib_x = scipy.linalg.solve(A, f) # библиотечное решение\n",
    "        end_time = time.time()\n",
    "        lib_time[i] = end_time - start_time\n",
    "\n",
    "        start_time = time.time()\n",
    "        my_x = my_solve(A, f)          # свое решение\n",
    "        end_time = time.time()\n",
    "        my_time[i] = end_time - start_time\n",
    "\n",
    "    print('My time: ', my_time)\n",
    "    print('lib_time: ', lib_time)\n",
    "\n",
    "    plt.plot(steps, my_time, 'ro-', label='Моя функция')\n",
    "    plt.plot(steps, lib_time, 'bo-', label='scipy.linalg.solve')\n",
    "    plt.legend()\n",
    "\n",
    "    plt.show()\n",
    "\n",
    "    print('Оценим норму разности решений приведенной функции Якоби и библиотечной функции: ')\n",
    "    err = np.linalg.norm(lib_x-my_x)\n",
    "    print(err)\n",
    "\n",
    "\n",
    "check_jacobi()"
   ]
  },
  {
   "cell_type": "markdown",
   "metadata": {},
   "source": [
    "# Метод Зейделя\n",
    "\n",
    "Полагая $B=L+D$ и $\\tau=1$, проделываем выкладки формул, как и в методе Якоби."
   ]
  },
  {
   "cell_type": "code",
   "execution_count": 22,
   "metadata": {},
   "outputs": [
    {
     "name": "stdout",
     "output_type": "stream",
     "text": [
      "My time:  [0.24784350395202637, 0.09918403625488281, 0.22438788414001465, 0.41853928565979004, 0.6215107440948486]\n",
      "lib_time:  [0.07236456871032715, 0.0027680397033691406, 0.029180526733398438, 0.11627984046936035, 0.08845853805541992]\n"
     ]
    },
    {
     "data": {
      "image/png": "[encoded data removed]",
      "text/plain": [
       "<Figure size 432x288 with 1 Axes>"
      ]
     },
     "metadata": {
      "needs_background": "light"
     },
     "output_type": "display_data"
    },
    {
     "name": "stdout",
     "output_type": "stream",
     "text": [
      "Оценим норму разности решений приведенной функции Зейделя и библиотечной функции: \n",
      "0.0222112624287129\n"
     ]
    }
   ],
   "source": [
    "##### Метод Зейделя итерационного решения СЛАУ #####\n",
    "\n",
    "import numpy as np\n",
    "import matplotlib.pyplot as plt\n",
    "import time\n",
    "import scipy.linalg\n",
    "\n",
    "\n",
    "def seidel(A, f, x):\n",
    "\n",
    "    n = f.size\n",
    "    x_new = np.zeros(n)\n",
    "\n",
    "    for i in range(n):\n",
    "        s = 0\n",
    "        for j in range(i):\n",
    "            s = s + A[i][j] * x_new[j]\n",
    "        for j in range(i+1, n):\n",
    "            s = s + A[i][j] * x[j]\n",
    "        x_new[i] = (f[i] - s) / A[i][i]\n",
    "\n",
    "    return x_new\n",
    "\n",
    "\n",
    "\n",
    "def my_solve(A, f):\n",
    "    eps = 0.1        # Точность между двумя соседними приближениями\n",
    "    n = f.size\n",
    "    x = np.zeros(n)  # начальное приближение\n",
    "    i = 0            # считаем количество итераций\n",
    "\n",
    "    while True:\n",
    "        i = i + 1\n",
    "        x_new = jacobi(A, f, x)\n",
    "        a = np.array(x_new)\n",
    "        b = np.array(x)\n",
    "        if np.linalg.norm(a-b) < eps:\n",
    "            break\n",
    "        x = x_new[:]\n",
    "\n",
    "    return x_new\n",
    "\n",
    "\n",
    "def diag_domin(A, n):\n",
    "    for i in range(n):\n",
    "        s = 0\n",
    "        for j in range(n):\n",
    "            if i != j:\n",
    "                s += abs(A[i][j])\n",
    "        if (A[i][i] < 0):\n",
    "            A[i][i] -= s\n",
    "        else:\n",
    "            A[i][i] += s\n",
    "    return A\n",
    "\n",
    "\n",
    "########## Проверка метода Зейделя ###############\n",
    "\n",
    "\"\"\"\n",
    " #  Пример из лекций\n",
    "A = np.array([[2, -1, 0, -1],\n",
    "              [0, 2, -1, 0],\n",
    "              [-1, 1, 3, 0],\n",
    "              [1, 0, -2, 4]])\n",
    "f = np.array([4, 3, 2, 1])\n",
    "n = f.size\n",
    "\n",
    "x = solve(A, f)\n",
    "print(x)\n",
    "\"\"\"\n",
    "\n",
    "### Реализация на матрицах 100, 200, 300 ... с диагональным преобладанием\n",
    "def check_seidel():\n",
    "    n = 5\n",
    "    my_time = [0] * n\n",
    "    lib_time = [0] * n\n",
    "    steps = [i*100 for i in range(1, n+1)]  # шаги - порядок матриц\n",
    "\n",
    "    for i in range(0, n):\n",
    "        size = 100 * (i+1)\n",
    "        A = np.random.rand(size, size)\n",
    "        f = np.random.rand(size)\n",
    "        A = diag_domin(A, size)  # матрица должна иметь диагональное преобладание\n",
    "\n",
    "        start_time = time.time()\n",
    "        lib_x = np.linalg.solve(A, f) # библиотечное решение\n",
    "        end_time = time.time()\n",
    "        lib_time[i] = end_time - start_time\n",
    "\n",
    "        start_time = time.time()\n",
    "        my_x = my_solve(A, f)          # свое решение\n",
    "        end_time = time.time()\n",
    "        my_time[i] = end_time - start_time\n",
    "\n",
    "    print('My time: ', my_time)\n",
    "    print('lib_time: ', lib_time)\n",
    "\n",
    "    plt.plot(steps, my_time, 'ro-', label='Моя функция')\n",
    "    plt.plot(steps, lib_time, 'bo-', label='scipy.linalg.solve')\n",
    "    plt.legend()\n",
    "\n",
    "    plt.show()\n",
    "\n",
    "    print('Оценим норму разности решений приведенной функции Зейделя и библиотечной функции: ')\n",
    "    err = np.linalg.norm(lib_x-my_x)\n",
    "    print(err)\n",
    "\n",
    "    # варьируя eps, мы изменяем точность. Здесь время счета для eps=0.01 и eps=0.001\n",
    "                    # почти одинаково, поэтому для улучшения точности примем eps=0.001\n",
    "    \n",
    "\n",
    "check_seidel()"
   ]
  },
  {
   "cell_type": "markdown",
   "metadata": {},
   "source": [
    "Как мы можем наблюдать, скорость решения библиотечных функций на порядок превышает скорость решения наших методов.\n",
    "### Но как работают описанные нами методы Якоби и Зейделя в сравнении друг с другом?\n",
    "Проанализируем результат на тех же порядках матриц."
   ]
  },
  {
   "cell_type": "code",
   "execution_count": 23,
   "metadata": {},
   "outputs": [],
   "source": [
    "def my_jacobi(A, f):\n",
    "    eps = 0.1        # Точность между двумя соседними приближениями\n",
    "    n = f.size\n",
    "    x = np.zeros(n)  # начальное приближение\n",
    "    i = 0            # считаем количество итераций\n",
    "\n",
    "    while True:\n",
    "        i = i + 1\n",
    "        x_new = jacobi(A, f, x)\n",
    "        a = np.array(x_new)\n",
    "        b = np.array(x)\n",
    "        if np.linalg.norm(a-b) < eps:\n",
    "            break\n",
    "        x = x_new[:]\n",
    "\n",
    "    return x_new"
   ]
  },
  {
   "cell_type": "code",
   "execution_count": 24,
   "metadata": {},
   "outputs": [],
   "source": [
    "def my_seidel(A, f):\n",
    "    eps = 0.1        # Точность между двумя соседними приближениями\n",
    "    n = f.size\n",
    "    x = np.zeros(n)  # начальное приближение\n",
    "    i = 0            # считаем количество итераций\n",
    "\n",
    "    while True:\n",
    "        i = i + 1\n",
    "        x_new = jacobi(A, f, x)\n",
    "        a = np.array(x_new)\n",
    "        b = np.array(x)\n",
    "        if np.linalg.norm(a-b) < eps:\n",
    "            break\n",
    "        x = x_new[:]\n",
    "\n",
    "    return x_new\n"
   ]
  },
  {
   "cell_type": "code",
   "execution_count": 25,
   "metadata": {},
   "outputs": [],
   "source": [
    "def check_both():\n",
    "    n = 5\n",
    "    my_time1 = [0] * n\n",
    "    my_time2 = [0] * n\n",
    "    steps = [i*100 for i in range(1, n+1)]  # шаги - порядок матриц\n",
    "\n",
    "    for i in range(0, n):\n",
    "        size = 100 * (i+1)\n",
    "        A = np.random.rand(size, size)\n",
    "        f = np.random.rand(size)\n",
    "        A = diag_domin(A, size)  # матрица должна иметь диагональное преобладание\n",
    "\n",
    "        start_time = time.time()\n",
    "        my_x1 = my_jacobi(A, f)\n",
    "        end_time = time.time()\n",
    "        my_time1[i] = end_time - start_time\n",
    "\n",
    "        start_time = time.time()\n",
    "        my_x2 = my_seidel(A, f)\n",
    "        end_time = time.time()\n",
    "        my_time2[i] = end_time - start_time\n",
    "\n",
    "    print('Jacobi: ', my_time1)\n",
    "    print('Seidel: ', my_time2)\n",
    "\n",
    "    plt.plot(steps, my_time1, 'ro-', label='Jacobi')\n",
    "    plt.plot(steps, my_time2, 'bo-', label='Seidel')\n",
    "    plt.legend()\n",
    "\n",
    "    plt.show()"
   ]
  },
  {
   "cell_type": "code",
   "execution_count": 26,
   "metadata": {},
   "outputs": [
    {
     "name": "stdout",
     "output_type": "stream",
     "text": [
      "Jacobi:  [0.05281639099121094, 0.10359597206115723, 0.23628973960876465, 0.3981757164001465, 0.6595644950866699]\n",
      "Seidel:  [0.05488944053649902, 0.10375308990478516, 0.22591567039489746, 0.402388334274292, 0.6372530460357666]\n"
     ]
    },
    {
     "data": {
      "image/png": "[encoded data removed]",
      "text/plain": [
       "<Figure size 432x288 with 1 Axes>"
      ]
     },
     "metadata": {
      "needs_background": "light"
     },
     "output_type": "display_data"
    }
   ],
   "source": [
    "check_both()"
   ]
  },
  {
   "cell_type": "markdown",
   "metadata": {},
   "source": [
    "Скорости вычисления решений методами Якоби и Зейделя почти одинаковы. "
   ]
  }
 ],
 "metadata": {
  "kernelspec": {
   "display_name": "Python 3",
   "language": "python",
   "name": "python3"
  },
  "language_info": {
   "codemirror_mode": {
    "name": "ipython",
    "version": 3
   },
   "file_extension": ".py",
   "mimetype": "text/x-python",
   "name": "python",
   "nbconvert_exporter": "python",
   "pygments_lexer": "ipython3",
   "version": "3.8.2"
  }
 },
 "nbformat": 4,
 "nbformat_minor": 4
}
